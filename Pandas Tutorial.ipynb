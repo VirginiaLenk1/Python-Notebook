{
 "cells": [
  {
   "cell_type": "markdown",
   "id": "da758ffc",
   "metadata": {},
   "source": [
    "# Python Pandas Tutorial"
   ]
  },
  {
   "cell_type": "markdown",
   "id": "6ce22767",
   "metadata": {},
   "source": [
    "The *pandas*-Paket is the most important tool for data scientists and analysts working with Python today. While powerful machine learning and impressive visualization tools may get the most attention, pandas is the backbone of many data projects.\n",
    "\n",
    "> The name \\[*pandas*\\] is derived from the term \"**pan**el **da**ta\", which is an economic term for datasets containing observations over various time periods for the same subjects.\n",
    "\n",
    "So, if you want or need to work with large datasets and many tables, it's extremely helpful to delve deeper into pandas."
   ]
  },
  {
   "cell_type": "markdown",
   "id": "a032ccc2",
   "metadata": {},
   "source": [
    "# What is Pandas Used For?\n",
    "\n",
    "This tool is essentially the home of your data. With Pandas, you get to know your data by cleaning, transforming, and analyzing it.\n",
    "\n",
    "With Pandas, you can extract data from various files (e.g., CSV) and present it in a DataFrame—a table, essentially—and then work with that data. For example, you can:\n",
    "\n",
    "- Calculate statistics and answer questions about the data, such as:\n",
    "\n",
    "    - What is the average, median, maximum, or minimum of each column?\n",
    "    - Does column A correlate with column B?\n",
    "    - What does the distribution of data in column C look like?\n",
    "\n",
    "- Clean the data by removing missing values and filtering rows or columns based on certain criteria\n",
    "\n",
    "- Visualize the data using Matplotlib. You can create bar charts, line charts, histograms, scatter plots, and much more.\n",
    "\n",
    "- Save the cleaned and transformed data back into a CSV file, another file, or a database\n",
    "\n",
    "Before diving into modeling or complex visualizations, it's important to have a good understanding of the nature of your dataset. And Pandas is the best way to achieve this.\n"
   ]
  },
  {
   "cell_type": "markdown",
   "id": "c2d59ff3",
   "metadata": {},
   "source": [
    "## How Does Pandas Fit into the Data Science Toolkit?\n",
    "\n",
    "The Pandas library is not only a central element of the Data Science toolkit but is also used in conjunction with other libraries from this collection.\n",
    "\n",
    "Pandas is based on the **NumPy** library, which means that many structures from NumPy are used or replicated in Pandas. Data in Pandas is often used for statistical analysis in **SciPy**, plotting functions from **Matplotlib**, and machine learning algorithms in **Scikit-learn**.\n",
    "\n",
    "NumPy, SciPy, Matplotlib, and Scikit-learn are known as `libraries`, which are collections of code that provide specific functions and tools. For example, **NumPy** includes various mathematical functions such as sine (numpy.sin(x)) or logarithm (numpy.log(x)).\n",
    "\n",
    "To access these libraries, you first need to import them. This is done using the `import` command followed by the required library.\n"
   ]
  },
  {
   "cell_type": "code",
   "execution_count": 45,
   "id": "9b3c8662",
   "metadata": {},
   "outputs": [
    {
     "name": "stdout",
     "output_type": "stream",
     "text": [
      "3.141592653589793 -0.3048106211022167\n"
     ]
    }
   ],
   "source": [
    "import numpy \n",
    "\n",
    "pi = numpy.pi\n",
    "n1 = numpy.sin(60)\n",
    "print(pi, n1)"
   ]
  },
  {
   "cell_type": "markdown",
   "id": "6183fcd8",
   "metadata": {},
   "source": [
    "## Getting Started with Pandas\n",
    "\n",
    "### Installation and Import\n",
    "Pandas is a straightforward package that can be installed easily. Open your terminal (for Mac users) or command prompt (for PC users) and install it with one of the following commands: `pip install pandas`\n",
    "\n",
    "When using an online compiler, this is usually not necessary, as the most popular libraries are pre-installed. In that case, you can directly import Pandas with `import pandas`. To avoid having to write the full name every time, you can also define libraries with abbreviations. For this, use \"import pandas **as** pd,\" where `pd` is now the abbreviation under which you can access Pandas.\n"
   ]
  },
  {
   "cell_type": "markdown",
   "id": "609812cb",
   "metadata": {},
   "source": [
    "## Basics of Pandas: Series and DataFrames\n",
    "\n",
    "The two main components of Pandas are `Series` and `DataFrame`.\n",
    "\n",
    "A `Series` is essentially a single column, and a `DataFrame` is a multidimensional table consisting of a collection of Series.\n",
    "\n",
    "DataFrames and Series are similar in many ways. Many operations that can be performed on one component can also be performed on the other, such as filling in missing values and calculating the average.\n",
    "\n",
    "### Creating DataFrames\n",
    "Creating DataFrames directly in Python is useful for testing new methods and functions from the Pandas documentation.\n",
    "\n",
    "There are **many** ways to create a DataFrame from scratch, but a good option is to use a simple `dict` (dictionary).\n",
    "\n",
    "Suppose we have a fruit stand selling apples and oranges. We want a column for each fruit and a row for each customer purchase. To organize this as a dictionary for Pandas, we could do the following:\n"
   ]
  },
  {
   "cell_type": "code",
   "execution_count": 2,
   "id": "41496122",
   "metadata": {},
   "outputs": [
    {
     "data": {
      "text/html": [
       "<div>\n",
       "<style scoped>\n",
       "    .dataframe tbody tr th:only-of-type {\n",
       "        vertical-align: middle;\n",
       "    }\n",
       "\n",
       "    .dataframe tbody tr th {\n",
       "        vertical-align: top;\n",
       "    }\n",
       "\n",
       "    .dataframe thead th {\n",
       "        text-align: right;\n",
       "    }\n",
       "</style>\n",
       "<table border=\"1\" class=\"dataframe\">\n",
       "  <thead>\n",
       "    <tr style=\"text-align: right;\">\n",
       "      <th></th>\n",
       "      <th>apples</th>\n",
       "      <th>oranges</th>\n",
       "    </tr>\n",
       "  </thead>\n",
       "  <tbody>\n",
       "    <tr>\n",
       "      <th>0</th>\n",
       "      <td>3</td>\n",
       "      <td>0</td>\n",
       "    </tr>\n",
       "    <tr>\n",
       "      <th>1</th>\n",
       "      <td>2</td>\n",
       "      <td>3</td>\n",
       "    </tr>\n",
       "    <tr>\n",
       "      <th>2</th>\n",
       "      <td>0</td>\n",
       "      <td>7</td>\n",
       "    </tr>\n",
       "    <tr>\n",
       "      <th>3</th>\n",
       "      <td>1</td>\n",
       "      <td>2</td>\n",
       "    </tr>\n",
       "  </tbody>\n",
       "</table>\n",
       "</div>"
      ],
      "text/plain": [
       "   apples  oranges\n",
       "0       3        0\n",
       "1       2        3\n",
       "2       0        7\n",
       "3       1        2"
      ]
     },
     "execution_count": 2,
     "metadata": {},
     "output_type": "execute_result"
    }
   ],
   "source": [
    "import pandas as pd\n",
    "\n",
    "data = {\n",
    "    'apples': [3, 2, 0, 1], \n",
    "    'oranges': [0, 3, 7, 2]\n",
    "}\n",
    "\n",
    "purchases = pd.DataFrame(data)\n",
    "\n",
    "purchases"
   ]
  },
  {
   "cell_type": "markdown",
   "id": "cabc36c1",
   "metadata": {},
   "source": [
    "**How Did This Work?**\n",
    "\n",
    "Each **(key, value)** entry in `data` corresponds to a **column** in the resulting DataFrame.\n",
    "\n",
    "The **index** of this DataFrame was provided to us as the numbers 0-3 during creation, but we can also create our own index when initializing the DataFrame.\n",
    "\n",
    "Thus, we can now use customer names as our index and also call up the order of a specific customer (i.e., access individual rows). For rows, the `.loc[]` command must be used along with the new indexing in the brackets. Using the `.iloc[]` command, you can access rows using indexing similar to how you learned with lists."
   ]
  },
  {
   "cell_type": "code",
   "execution_count": 23,
   "id": "8920c6cb",
   "metadata": {},
   "outputs": [
    {
     "name": "stdout",
     "output_type": "stream",
     "text": [
      "        apples  oranges\n",
      "June         3        0\n",
      "Robert       2        3\n",
      "Lily         0        7\n",
      "David        1        2\n",
      "--------------\n",
      "apples     3\n",
      "oranges    0\n",
      "Name: June, dtype: int64\n",
      "--------------\n",
      "apples     0\n",
      "oranges    7\n",
      "Name: Lily, dtype: int64\n",
      "--------------\n",
      "June      3\n",
      "Robert    2\n",
      "Lily      0\n",
      "David     1\n",
      "Name: apples, dtype: int64\n"
     ]
    }
   ],
   "source": [
    "purchases = pd.DataFrame(data, index=['June', 'Robert', 'Lily', 'David'])\n",
    "\n",
    "June = purchases.loc['June'] # .iloc because we have changed the indexing\n",
    "Lily = purchases.iloc[2]\n",
    "apples = purchases['apples'] # No `.iloc` or `.loc` since the column names have been the same from the beginning\n",
    "\n",
    "\n",
    "print(purchases)\n",
    "print('--------------')\n",
    "print(June)\n",
    "print('--------------')\n",
    "print(Lily)\n",
    "print('--------------')\n",
    "print(apples)"
   ]
  },
  {
   "cell_type": "markdown",
   "id": "7cb8f3e5",
   "metadata": {},
   "source": [
    "## Most Important Operations with DataFrames\n",
    "\n",
    "DataFrames have hundreds of methods and other operations that are crucial for any analysis. As a beginner, you should be familiar with the operations that perform simple transformations on your data and allow for basic statistical analysis.\n",
    "\n",
    "The first thing to do when opening a new dataset is to print a few rows to get an overview. This can be achieved with `.head()`:\n"
   ]
  },
  {
   "cell_type": "code",
   "execution_count": 4,
   "id": "1f371016",
   "metadata": {},
   "outputs": [
    {
     "data": {
      "text/html": [
       "<div>\n",
       "<style scoped>\n",
       "    .dataframe tbody tr th:only-of-type {\n",
       "        vertical-align: middle;\n",
       "    }\n",
       "\n",
       "    .dataframe tbody tr th {\n",
       "        vertical-align: top;\n",
       "    }\n",
       "\n",
       "    .dataframe thead th {\n",
       "        text-align: right;\n",
       "    }\n",
       "</style>\n",
       "<table border=\"1\" class=\"dataframe\">\n",
       "  <thead>\n",
       "    <tr style=\"text-align: right;\">\n",
       "      <th></th>\n",
       "      <th>apples</th>\n",
       "      <th>oranges</th>\n",
       "    </tr>\n",
       "  </thead>\n",
       "  <tbody>\n",
       "    <tr>\n",
       "      <th>June</th>\n",
       "      <td>3</td>\n",
       "      <td>0</td>\n",
       "    </tr>\n",
       "    <tr>\n",
       "      <th>Robert</th>\n",
       "      <td>2</td>\n",
       "      <td>3</td>\n",
       "    </tr>\n",
       "    <tr>\n",
       "      <th>Lily</th>\n",
       "      <td>0</td>\n",
       "      <td>7</td>\n",
       "    </tr>\n",
       "    <tr>\n",
       "      <th>David</th>\n",
       "      <td>1</td>\n",
       "      <td>2</td>\n",
       "    </tr>\n",
       "  </tbody>\n",
       "</table>\n",
       "</div>"
      ],
      "text/plain": [
       "        apples  oranges\n",
       "June         3        0\n",
       "Robert       2        3\n",
       "Lily         0        7\n",
       "David        1        2"
      ]
     },
     "execution_count": 4,
     "metadata": {},
     "output_type": "execute_result"
    }
   ],
   "source": [
    "purchases.head()"
   ]
  },
  {
   "cell_type": "markdown",
   "id": "a4f728f5",
   "metadata": {},
   "source": [
    "`.head()` by default outputs the **first** five rows of your DataFrame, but you can also specify a number: `purchases.head(2)` would, for example, output the first two rows.\n",
    "\n",
    "To display the **last** five rows, use `.tail()`. `tail()` also accepts a number to output the last rows as desired.\n"
   ]
  },
  {
   "cell_type": "code",
   "execution_count": 5,
   "id": "abd09ed3",
   "metadata": {},
   "outputs": [
    {
     "name": "stdout",
     "output_type": "stream",
     "text": [
      "        apples  oranges\n",
      "June         3        0\n",
      "Robert       2        3\n",
      "        apples  oranges\n",
      "Robert       2        3\n",
      "Lily         0        7\n",
      "David        1        2\n"
     ]
    }
   ],
   "source": [
    "print(purchases.head(2))\n",
    "print(purchases.tail(3))"
   ]
  },
  {
   "cell_type": "markdown",
   "id": "000506cc",
   "metadata": {},
   "source": [
    "### Getting Information About Your Data\n",
    "\n",
    "`.info()` should be one of the first commands you run after loading your data. `.info()` provides important details about your dataset, such as the number of rows and columns, the number of non-null values, the data type of each column, and how much memory the DataFrame occupies.\n",
    "\n",
    "Note in our dataset that we obviously have missing values in both columns. We will soon address how to handle these.\n",
    "\n",
    "Another quick and useful attribute is `.shape`, which simply outputs a tuple **(number of rows, number of columns)**:\n"
   ]
  },
  {
   "cell_type": "code",
   "execution_count": 6,
   "id": "f45f3beb",
   "metadata": {},
   "outputs": [
    {
     "name": "stdout",
     "output_type": "stream",
     "text": [
      "<class 'pandas.core.frame.DataFrame'>\n",
      "Index: 4 entries, June to David\n",
      "Data columns (total 2 columns):\n",
      " #   Column   Non-Null Count  Dtype\n",
      "---  ------   --------------  -----\n",
      " 0   apples   4 non-null      int64\n",
      " 1   oranges  4 non-null      int64\n",
      "dtypes: int64(2)\n",
      "memory usage: 268.0+ bytes\n"
     ]
    },
    {
     "data": {
      "text/plain": [
       "(4, 2)"
      ]
     },
     "execution_count": 6,
     "metadata": {},
     "output_type": "execute_result"
    }
   ],
   "source": [
    "purchases.info()\n",
    "\n",
    "purchases.shape"
   ]
  },
  {
   "cell_type": "markdown",
   "id": "d2f4f319",
   "metadata": {},
   "source": [
    "## The append Function\n",
    "\n",
    "To add more values to our DataFrame, we can use the `append()` function. For this, we define our new data that we want to add afterward. We now want to add two more customers (Paul and Larissa). To do this, we define a new DataFrame that specifies the amount of fruit both have purchased and then use the aforementioned function to append the new DataFrame to the old one."
   ]
  },
  {
   "cell_type": "code",
   "execution_count": 28,
   "id": "baa3ca7a",
   "metadata": {},
   "outputs": [],
   "source": [
    "new_data = {\n",
    "    'apples': [3, 0],\n",
    "    'oranges': [2, 2]\n",
    "}\n",
    "\n",
    "new_purchases = pd.DataFrame(new_data, index=['Paul', 'Larissa'])\n",
    "\n",
    "purchases = purchases.append(new_purchases)"
   ]
  },
  {
   "cell_type": "code",
   "execution_count": 29,
   "id": "ff50e13d",
   "metadata": {},
   "outputs": [
    {
     "data": {
      "text/html": [
       "<div>\n",
       "<style scoped>\n",
       "    .dataframe tbody tr th:only-of-type {\n",
       "        vertical-align: middle;\n",
       "    }\n",
       "\n",
       "    .dataframe tbody tr th {\n",
       "        vertical-align: top;\n",
       "    }\n",
       "\n",
       "    .dataframe thead th {\n",
       "        text-align: right;\n",
       "    }\n",
       "</style>\n",
       "<table border=\"1\" class=\"dataframe\">\n",
       "  <thead>\n",
       "    <tr style=\"text-align: right;\">\n",
       "      <th></th>\n",
       "      <th>apples</th>\n",
       "      <th>oranges</th>\n",
       "    </tr>\n",
       "  </thead>\n",
       "  <tbody>\n",
       "    <tr>\n",
       "      <th>June</th>\n",
       "      <td>3</td>\n",
       "      <td>0</td>\n",
       "    </tr>\n",
       "    <tr>\n",
       "      <th>Robert</th>\n",
       "      <td>2</td>\n",
       "      <td>3</td>\n",
       "    </tr>\n",
       "    <tr>\n",
       "      <th>Lily</th>\n",
       "      <td>0</td>\n",
       "      <td>7</td>\n",
       "    </tr>\n",
       "    <tr>\n",
       "      <th>David</th>\n",
       "      <td>1</td>\n",
       "      <td>2</td>\n",
       "    </tr>\n",
       "    <tr>\n",
       "      <th>Paul</th>\n",
       "      <td>3</td>\n",
       "      <td>2</td>\n",
       "    </tr>\n",
       "    <tr>\n",
       "      <th>Larissa</th>\n",
       "      <td>0</td>\n",
       "      <td>2</td>\n",
       "    </tr>\n",
       "  </tbody>\n",
       "</table>\n",
       "</div>"
      ],
      "text/plain": [
       "         apples  oranges\n",
       "June          3        0\n",
       "Robert        2        3\n",
       "Lily          0        7\n",
       "David         1        2\n",
       "Paul          3        2\n",
       "Larissa       0        2"
      ]
     },
     "execution_count": 29,
     "metadata": {},
     "output_type": "execute_result"
    }
   ],
   "source": [
    "purchases"
   ]
  },
  {
   "cell_type": "markdown",
   "id": "8a632e91",
   "metadata": {},
   "source": [
    "## Accessing Individual Rows\n",
    "\n",
    "To filter individual rows, you can use comparison operators `==` to specify which rows you want to display. \n",
    "> In Python, `==` is used as a comparison operator and represents an equality check between two values or expressions. The `==` operator checks if the values on both sides are equal, returning True if they are equal and False if they are not.\n",
    "\n",
    "To display all rows where the column `Apples` has a value of 3, first specify the condition using `==` for the DataFrame. You can do this as follows:"
   ]
  },
  {
   "cell_type": "code",
   "execution_count": 32,
   "id": "ada952cc",
   "metadata": {},
   "outputs": [
    {
     "name": "stdout",
     "output_type": "stream",
     "text": [
      "      apples  oranges\n",
      "June       3        0\n",
      "Paul       3        2\n",
      "--------------\n",
      "June    0\n",
      "Paul    2\n",
      "Name: oranges, dtype: int64\n",
      "--------------\n"
     ]
    }
   ],
   "source": [
    "a1 = purchases[purchases['apples'] == 3]\n",
    "\n",
    "# gives the 'orange' column for all rows where apples == 3\n",
    "\n",
    "a2 = a1['oranges']\n",
    "\n",
    "\n",
    "print(a1)\n",
    "print('--------------')\n",
    "print(a2)"
   ]
  },
  {
   "cell_type": "markdown",
   "id": "a898a068",
   "metadata": {},
   "source": [
    "To set multiple conditions, you can use either `|` (or) or `&` (and). Use `|` to allow either condition to be met and `&` to require both conditions to be met. That is, `|` will return a result if any one of the conditions is satisfied, while `&` will return a result only if all conditions are met. These operators can be used as many times as needed. When setting multiple conditions, make sure to use appropriate parentheses. For example:\n",
    "\n",
    "> (a==0) | (a==2) & (o==0)\n",
    "\n",
    "is different from\n",
    "\n",
    "> ((a==0) | (a==2)) & (o==0)\n",
    "\n",
    "Try both cases to understand why parentheses are important!"
   ]
  },
  {
   "cell_type": "code",
   "execution_count": 39,
   "id": "f40ee552",
   "metadata": {},
   "outputs": [
    {
     "name": "stdout",
     "output_type": "stream",
     "text": [
      "         apples  oranges\n",
      "June          3        0\n",
      "Lily          0        7\n",
      "Paul          3        2\n",
      "Larissa       0        2\n",
      "--------------\n",
      "      apples  oranges\n",
      "June       3        0\n",
      "--------------\n",
      "         apples  oranges\n",
      "Paul          3        2\n",
      "Larissa       0        2\n"
     ]
    }
   ],
   "source": [
    "# Apples should display either 3 or 0\n",
    "a3 = purchases[(purchases['apples'] == 3) | (purchases['apples'] == 0)]\n",
    "\n",
    "# Apples should display and Oranges 0 \n",
    "a4 = purchases[(purchases['apples'] == 3) & (purchases['oranges'] == 0)]\n",
    "\n",
    "# Apples should display either 3 or 0 and Oranges 2 \n",
    "a5 = purchases[((purchases['apples'] == 3) | (purchases['apples'] == 0)) & (purchases['oranges'] == 2)] \n",
    "\n",
    "print(a3)\n",
    "print('--------------')\n",
    "print(a4)\n",
    "print('--------------')\n",
    "print(a5)"
   ]
  },
  {
   "cell_type": "markdown",
   "id": "c555ab20",
   "metadata": {},
   "source": [
    "# Tasks:\n",
    "\n",
    "1) Get familiar with DataFrames by creating your own table listing 4 friends/family members (or both). The names should be used as the row index, and the columns should include Age, Gender, and Hair Color. (And fill these in ;) )\n",
    "\n",
    "2) Now, display all rows for the men/boys from your table.\n",
    "\n",
    "3) Next, display all rows for people with brown and blonde hair.\n",
    "\n",
    "4) Finally, display the age of all people with brown hair."
   ]
  },
  {
   "cell_type": "code",
   "execution_count": null,
   "id": "f6d8fe41",
   "metadata": {},
   "outputs": [],
   "source": []
  }
 ],
 "metadata": {
  "kernelspec": {
   "display_name": "Python 3 (ipykernel)",
   "language": "python",
   "name": "python3"
  },
  "language_info": {
   "codemirror_mode": {
    "name": "ipython",
    "version": 3
   },
   "file_extension": ".py",
   "mimetype": "text/x-python",
   "name": "python",
   "nbconvert_exporter": "python",
   "pygments_lexer": "ipython3",
   "version": "3.7.13"
  }
 },
 "nbformat": 4,
 "nbformat_minor": 5
}
