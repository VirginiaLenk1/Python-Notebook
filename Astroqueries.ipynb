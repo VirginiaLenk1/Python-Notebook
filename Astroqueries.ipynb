{
 "cells": [
  {
   "cell_type": "code",
   "execution_count": 19,
   "metadata": {},
   "outputs": [],
   "source": [
    "#-------- eJWST ----------------#\n",
    "from astroquery.esa.jwst import Jwst\n",
    "\n",
    "#------------- Gaia ---------#\n",
    "from astroquery.gaia import Gaia\n",
    "\n",
    "#---------- NED -----------_#\n",
    "from astroquery.ipac.ned import Ned\n",
    "\n",
    "from astropy.coordinates import SkyCoord\n",
    "from astropy import coordinates as coords\n",
    "import astropy.units as u\n",
    "import numpy as np\n",
    "import pandas as pd\n"
   ]
  },
  {
   "cell_type": "markdown",
   "metadata": {},
   "source": [
    "# Information\n",
    "\n",
    "## Quick Description of astroquery\n",
    "**astroquery**(https://astroquery.readthedocs.io/en/latest/) is a Python library designed to simplify querying astronomical databases and archives. \n",
    "It provides a unified interface to access and retrieve data from a variety of sources, making it easier to interact with astronomical data without needing to deal with each service's specific APIs directly.\\\n",
    "Astroquery is organized into modules, each corresponding to a specific astronomical archive or service. Each module typically contains a class that handles the queries and interactions with that particular service.\n",
    "Each module provides methods to perform queries, such as query_object for querying by object name, query_region for querying by celestial coordinates, and query_adql for querying using ADQL (where supported).\n",
    "\n",
    "**ADQL** (Astronomical Data Query Language) is a SQL-like language that allows users to perform complex queries and data retrieval based on astronomical coordinates and other criteria. \\\n",
    "To understand what can be retrieved using ADQL typically involves understanding the schema and capabilities of the astronomical database or archive you are querying. This information usually can be found in the Archive's Documentation or Web Interface. \n",
    "Some even provide web-based ADQL query builders that allow you to construct queries interactively (e.g eJWST).\n",
    "\n",
    "Services Supporting ADQL:\n",
    "- ESA Archives: Some archives, such as Gaia and eJWST, support ADQL queries. \n",
    "    - Gaia Archive: Provides access to data from the Gaia mission, offering high-precision astrometry and photometry. **astroquery Package: astroquery.gaia**\n",
    "    - eJWST: Contains data from the James Webb Space Telescope, offering observations in the infrared spectrum. **astroquery Package: astroquery.esa.jwst**\n",
    "    - XMM-Newton Archive:  Contains data from the XMM-Newton observatory, which observes the X-ray sky. **astroquery Package: astroquery.xsa**\n",
    "- SIMBAD: Provides detailed information about astronomical objects, including their identifiers, positions, classifications, and bibliographic references. **astroquery Package: astroquery.simbad**\n",
    "\n",
    "Services Without ADQL Support:\n",
    "- NED (NASA/IPAC Extragalactic Database): Does not natively support ADQL queries. Instead, NED offers its own query interfaces and tools for accessing information about extragalactic objects. **astroquery Package: astroquery.ipac.ned** \n",
    "- MAST (The Mikulski Archive for Space Telescopes): Collects and archives a variety of scientific data to support the astronomical community.\\\n",
    " MAST offers single mission-based queries as well as cross-mission queries.  **astroquery Package: astroquery.mast**\n",
    "\n",
    "In the following I provide example queries using ADQL for Gaia and eJWST, as well as simple queries for the NED database.\n"
   ]
  },
  {
   "cell_type": "markdown",
   "metadata": {},
   "source": [
    "## Authenticated access\n",
    "\n",
    "\n",
    "Authenticated access via a COSMOS account offers the following benefits:\n",
    "\n",
    "- **Persistent Results**: Results are saved in a private user area on the server. This means that once a job is completed, you can access the results at any time without re-running the query, which is particularly useful for large datasets. Retrieving finished jobs is faster than running a new query, saving time and resources.\n",
    "\n",
    "- **Increased Capacity**: Authenticated access provides higher quotas and more capacity for handling larger queries. This helps prevent query timeouts and allows you to work efficiently with extensive data.\n",
    "\n",
    "To obtain authenticated access, you need to create a COSMOS account, which is free and straightforward (see for example: https://www.cosmos.esa.int/web/jwst-archive/registration). COSMOS is the European Space Agency's (ESA) system for managing access to their archives, including services like Gaia and JWST.\n"
   ]
  },
  {
   "cell_type": "code",
   "execution_count": 25,
   "metadata": {},
   "outputs": [
    {
     "name": "stdout",
     "output_type": "stream",
     "text": [
      "INFO: OK [astroquery.utils.tap.core]\n",
      "INFO: Login to gaia TAP server [astroquery.gaia.core]\n",
      "INFO: OK [astroquery.utils.tap.core]\n",
      "INFO: Login to gaia data server [astroquery.gaia.core]\n",
      "INFO: OK [astroquery.utils.tap.core]\n"
     ]
    }
   ],
   "source": [
    "#---------- Login with cosmos account -----------#\n",
    "Jwst.login(user='Name', password='Password!') # change to your cosmos credentials\n",
    "Gaia.login(user='Name', password='Password')"
   ]
  },
  {
   "cell_type": "markdown",
   "metadata": {},
   "source": [
    "## Example ADQL query JWST\n",
    "\n",
    "ADQL queries start with selecting the columns that will be in the output. Usually,\n",
    "the column name is sufficient. If there is a need to lift ambiguity, add the table\n",
    "name first (table_name.column_name). This is also where the number of rows is fixed\n",
    "(here 100).\n",
    "\n",
    "For the JWST query I access two tables jwst.observation and jwst.archive choosing the first 500 entries from both tables. Then I retrieve the specififc job_id for both, which can be used later to retrieve the results of the query without having to run the job again. I transform the result to a pandas dataframe and merge them to one dataframe using the observationid column. Here one can see that the first 500 entries are different for both tables, likely due to jwst.archive storing all calibration levels, while jwst.observations does not."
   ]
  },
  {
   "cell_type": "code",
   "execution_count": 39,
   "metadata": {},
   "outputs": [
    {
     "name": "stdout",
     "output_type": "stream",
     "text": [
      "INFO: Query finished. [astroquery.utils.tap.core]\n",
      "INFO: Query finished. [astroquery.utils.tap.core]\n"
     ]
    }
   ],
   "source": [
    "#---------- ADQL queries -----------#\n",
    "# using jwst.observation\n",
    "observation = \"SELECT TOP 500 observationid, target_name, target_keywords, instrument_keywords, proposal_id FROM jwst.observation WHERE (target_keywords is not null)\"\n",
    "job_observation = Jwst.launch_job(observation, async_job=True)\n",
    "result_observation = job_observation.get_results()\n",
    "\n",
    "# using jwst.archive\n",
    "archive = \"SELECT TOP 500 observationid, calibrationlevel, instrument_name, public, dataproducttype, targetposition_coordinates_cval1, targetposition_coordinates_cval2 FROM jwst.archive WHERE ((jwst.archive.calibrationlevel = 3) OR (jwst.archive.calibrationlevel = -1))\" \n",
    "job_archive = Jwst.launch_job(archive, async_job=True)\n",
    "result_archive = job_archive.get_results()"
   ]
  },
  {
   "cell_type": "code",
   "execution_count": 40,
   "metadata": {},
   "outputs": [
    {
     "name": "stdout",
     "output_type": "stream",
     "text": [
      "1723116522259O 1723116523183O\n"
     ]
    }
   ],
   "source": [
    "#----------- extract job ids to later retrieve without loading ADQL again ------------#\n",
    "job_id_observation = job_observation.jobid\n",
    "job_id_archive = job_archive.jobid\n",
    "print(job_id_observation, job_id_archive)\n",
    "\n",
    "# to retrieve the jobs again without having to execute the queries again\n",
    "# old_job = Jwst.load_async_job(jobid=job_id) # for job_id put here the job id from the job you want to retrieve the data \n",
    "# result = old_job.get_results()"
   ]
  },
  {
   "cell_type": "code",
   "execution_count": 41,
   "metadata": {},
   "outputs": [],
   "source": [
    "#------ put data into dataframe --------#\n",
    "pandas_observation = result_observation.to_pandas()\n",
    "pandas_archive = result_archive.to_pandas()"
   ]
  },
  {
   "cell_type": "code",
   "execution_count": 42,
   "metadata": {},
   "outputs": [
    {
     "data": {
      "text/html": [
       "<div>\n",
       "<style scoped>\n",
       "    .dataframe tbody tr th:only-of-type {\n",
       "        vertical-align: middle;\n",
       "    }\n",
       "\n",
       "    .dataframe tbody tr th {\n",
       "        vertical-align: top;\n",
       "    }\n",
       "\n",
       "    .dataframe thead th {\n",
       "        text-align: right;\n",
       "    }\n",
       "</style>\n",
       "<table border=\"1\" class=\"dataframe\">\n",
       "  <thead>\n",
       "    <tr style=\"text-align: right;\">\n",
       "      <th></th>\n",
       "      <th>observationid</th>\n",
       "      <th>target_name</th>\n",
       "      <th>target_keywords</th>\n",
       "      <th>instrument_keywords</th>\n",
       "      <th>proposal_id</th>\n",
       "      <th>calibrationlevel</th>\n",
       "      <th>instrument_name</th>\n",
       "      <th>public</th>\n",
       "      <th>dataproducttype</th>\n",
       "      <th>targetposition_coordinates_cval1</th>\n",
       "      <th>targetposition_coordinates_cval2</th>\n",
       "    </tr>\n",
       "  </thead>\n",
       "  <tbody>\n",
       "    <tr>\n",
       "      <th>0</th>\n",
       "      <td>jw04291-o002_s00413_nirspec_f170lp-g235h</td>\n",
       "      <td>Obs2_1080</td>\n",
       "      <td>SREGION=POLYGON ICRS  214.859171947 52.8369553...</td>\n",
       "      <td>APERTURE=NRS_FULL_MSA|DETECTOR=MULTIPLE|EXPEND...</td>\n",
       "      <td>4291</td>\n",
       "      <td>3</td>\n",
       "      <td>NIRSPEC/MSA</td>\n",
       "      <td>True</td>\n",
       "      <td>spectrum</td>\n",
       "      <td>214.859225</td>\n",
       "      <td>52.837084</td>\n",
       "    </tr>\n",
       "    <tr>\n",
       "      <th>1</th>\n",
       "      <td>jw02959-o002_t002_nirspec_g395h-f290lp</td>\n",
       "      <td>06355</td>\n",
       "      <td>SREGION=POLYGON ICRS  110.842197620 -73.435659...</td>\n",
       "      <td>APERTURE=NRS_FULL_IFU|DETECTOR=MULTIPLE|EXPEND...</td>\n",
       "      <td>2959</td>\n",
       "      <td>3</td>\n",
       "      <td>NIRSPEC/IFU</td>\n",
       "      <td>False</td>\n",
       "      <td>cube</td>\n",
       "      <td>110.844536</td>\n",
       "      <td>-73.435076</td>\n",
       "    </tr>\n",
       "  </tbody>\n",
       "</table>\n",
       "</div>"
      ],
      "text/plain": [
       "                              observationid target_name  \\\n",
       "0  jw04291-o002_s00413_nirspec_f170lp-g235h   Obs2_1080   \n",
       "1    jw02959-o002_t002_nirspec_g395h-f290lp       06355   \n",
       "\n",
       "                                     target_keywords  \\\n",
       "0  SREGION=POLYGON ICRS  214.859171947 52.8369553...   \n",
       "1  SREGION=POLYGON ICRS  110.842197620 -73.435659...   \n",
       "\n",
       "                                 instrument_keywords proposal_id  \\\n",
       "0  APERTURE=NRS_FULL_MSA|DETECTOR=MULTIPLE|EXPEND...        4291   \n",
       "1  APERTURE=NRS_FULL_IFU|DETECTOR=MULTIPLE|EXPEND...        2959   \n",
       "\n",
       "   calibrationlevel instrument_name  public dataproducttype  \\\n",
       "0                 3     NIRSPEC/MSA    True        spectrum   \n",
       "1                 3     NIRSPEC/IFU   False            cube   \n",
       "\n",
       "   targetposition_coordinates_cval1  targetposition_coordinates_cval2  \n",
       "0                        214.859225                         52.837084  \n",
       "1                        110.844536                        -73.435076  "
      ]
     },
     "execution_count": 42,
     "metadata": {},
     "output_type": "execute_result"
    }
   ],
   "source": [
    "jwst_df = pd.merge(pandas_observation, pandas_archive, on='observationid', how='inner')\n",
    "jwst_df"
   ]
  },
  {
   "cell_type": "markdown",
   "metadata": {},
   "source": [
    "## Example ADQL query GAIA\n",
    "\n",
    "Here I only perform one query for the gaiadr3.gaia_source and transform the query result into a pandas datframe."
   ]
  },
  {
   "cell_type": "code",
   "execution_count": 32,
   "metadata": {},
   "outputs": [
    {
     "name": "stdout",
     "output_type": "stream",
     "text": [
      "INFO: Query finished. [astroquery.utils.tap.core]\n"
     ]
    }
   ],
   "source": [
    "#---------- ADQL queries -----------#\n",
    "# using gaiadr3.gaia_source\n",
    "gaia = \"SELECT TOP 100 gaia.source_id, gaia.ra, gaia.dec, gaia.pmra, gaia.classprob_dsc_combmod_quasar FROM  gaiadr3.gaia_source AS gaia\"\n",
    "job_gaia = Gaia.launch_job_async(gaia)\n",
    "result_gaia = job_gaia.get_results()"
   ]
  },
  {
   "cell_type": "code",
   "execution_count": 33,
   "metadata": {},
   "outputs": [
    {
     "data": {
      "text/html": [
       "<div>\n",
       "<style scoped>\n",
       "    .dataframe tbody tr th:only-of-type {\n",
       "        vertical-align: middle;\n",
       "    }\n",
       "\n",
       "    .dataframe tbody tr th {\n",
       "        vertical-align: top;\n",
       "    }\n",
       "\n",
       "    .dataframe thead th {\n",
       "        text-align: right;\n",
       "    }\n",
       "</style>\n",
       "<table border=\"1\" class=\"dataframe\">\n",
       "  <thead>\n",
       "    <tr style=\"text-align: right;\">\n",
       "      <th></th>\n",
       "      <th>SOURCE_ID</th>\n",
       "      <th>ra</th>\n",
       "      <th>dec</th>\n",
       "      <th>pmra</th>\n",
       "      <th>classprob_dsc_combmod_quasar</th>\n",
       "    </tr>\n",
       "  </thead>\n",
       "  <tbody>\n",
       "    <tr>\n",
       "      <th>0</th>\n",
       "      <td>5991615270691840512</td>\n",
       "      <td>242.442828</td>\n",
       "      <td>-43.547235</td>\n",
       "      <td>-5.527784</td>\n",
       "      <td>1.025633e-13</td>\n",
       "    </tr>\n",
       "    <tr>\n",
       "      <th>1</th>\n",
       "      <td>5991615270691849984</td>\n",
       "      <td>242.441421</td>\n",
       "      <td>-43.539854</td>\n",
       "      <td>-5.437843</td>\n",
       "      <td>1.022722e-13</td>\n",
       "    </tr>\n",
       "    <tr>\n",
       "      <th>2</th>\n",
       "      <td>5991615270693763072</td>\n",
       "      <td>242.436429</td>\n",
       "      <td>-43.545056</td>\n",
       "      <td>-2.459832</td>\n",
       "      <td>1.078649e-13</td>\n",
       "    </tr>\n",
       "    <tr>\n",
       "      <th>3</th>\n",
       "      <td>5991615270693763968</td>\n",
       "      <td>242.443102</td>\n",
       "      <td>-43.549471</td>\n",
       "      <td>3.587971</td>\n",
       "      <td>1.029555e-13</td>\n",
       "    </tr>\n",
       "    <tr>\n",
       "      <th>4</th>\n",
       "      <td>5991615270693764096</td>\n",
       "      <td>242.445660</td>\n",
       "      <td>-43.546384</td>\n",
       "      <td>-2.853520</td>\n",
       "      <td>1.888917e-11</td>\n",
       "    </tr>\n",
       "    <tr>\n",
       "      <th>...</th>\n",
       "      <td>...</td>\n",
       "      <td>...</td>\n",
       "      <td>...</td>\n",
       "      <td>...</td>\n",
       "      <td>...</td>\n",
       "    </tr>\n",
       "    <tr>\n",
       "      <th>95</th>\n",
       "      <td>4301016332250115328</td>\n",
       "      <td>294.944448</td>\n",
       "      <td>7.722656</td>\n",
       "      <td>NaN</td>\n",
       "      <td>1.430440e-03</td>\n",
       "    </tr>\n",
       "    <tr>\n",
       "      <th>96</th>\n",
       "      <td>4301016332250121600</td>\n",
       "      <td>294.943810</td>\n",
       "      <td>7.726852</td>\n",
       "      <td>NaN</td>\n",
       "      <td>1.019537e-04</td>\n",
       "    </tr>\n",
       "    <tr>\n",
       "      <th>97</th>\n",
       "      <td>4301016332251438848</td>\n",
       "      <td>294.948308</td>\n",
       "      <td>7.733534</td>\n",
       "      <td>NaN</td>\n",
       "      <td>1.487106e-03</td>\n",
       "    </tr>\n",
       "    <tr>\n",
       "      <th>98</th>\n",
       "      <td>4301016332260870400</td>\n",
       "      <td>294.949012</td>\n",
       "      <td>7.720361</td>\n",
       "      <td>-2.000960</td>\n",
       "      <td>1.022203e-13</td>\n",
       "    </tr>\n",
       "    <tr>\n",
       "      <th>99</th>\n",
       "      <td>4301016332260878592</td>\n",
       "      <td>294.953416</td>\n",
       "      <td>7.731703</td>\n",
       "      <td>-1.028421</td>\n",
       "      <td>1.020829e-13</td>\n",
       "    </tr>\n",
       "  </tbody>\n",
       "</table>\n",
       "<p>100 rows × 5 columns</p>\n",
       "</div>"
      ],
      "text/plain": [
       "              SOURCE_ID          ra        dec      pmra  \\\n",
       "0   5991615270691840512  242.442828 -43.547235 -5.527784   \n",
       "1   5991615270691849984  242.441421 -43.539854 -5.437843   \n",
       "2   5991615270693763072  242.436429 -43.545056 -2.459832   \n",
       "3   5991615270693763968  242.443102 -43.549471  3.587971   \n",
       "4   5991615270693764096  242.445660 -43.546384 -2.853520   \n",
       "..                  ...         ...        ...       ...   \n",
       "95  4301016332250115328  294.944448   7.722656       NaN   \n",
       "96  4301016332250121600  294.943810   7.726852       NaN   \n",
       "97  4301016332251438848  294.948308   7.733534       NaN   \n",
       "98  4301016332260870400  294.949012   7.720361 -2.000960   \n",
       "99  4301016332260878592  294.953416   7.731703 -1.028421   \n",
       "\n",
       "    classprob_dsc_combmod_quasar  \n",
       "0                   1.025633e-13  \n",
       "1                   1.022722e-13  \n",
       "2                   1.078649e-13  \n",
       "3                   1.029555e-13  \n",
       "4                   1.888917e-11  \n",
       "..                           ...  \n",
       "95                  1.430440e-03  \n",
       "96                  1.019537e-04  \n",
       "97                  1.487106e-03  \n",
       "98                  1.022203e-13  \n",
       "99                  1.020829e-13  \n",
       "\n",
       "[100 rows x 5 columns]"
      ]
     },
     "execution_count": 33,
     "metadata": {},
     "output_type": "execute_result"
    }
   ],
   "source": [
    "pandas_gaia = result_gaia.to_pandas()\n",
    "pandas_gaia"
   ]
  },
  {
   "cell_type": "markdown",
   "metadata": {},
   "source": [
    "## Example Query NED\n",
    "\n",
    "NED does not support ADQL queries, instead it offers different modules to extract data. Images and Spectra queries return their results as a list of HDUList, while everything else is returned as a Table. Here I display a query by an object Name and one by coordinates."
   ]
  },
  {
   "cell_type": "code",
   "execution_count": 17,
   "metadata": {},
   "outputs": [
    {
     "data": {
      "text/html": [
       "<div><i>Table length=1</i>\n",
       "<table id=\"table6082876464\" class=\"table-striped table-bordered table-condensed\">\n",
       "<thead><tr><th>No.</th><th>Object Name</th><th>RA</th><th>DEC</th><th>Type</th><th>Velocity</th><th>Redshift</th><th>Redshift Flag</th><th>Magnitude and Filter</th><th>Separation</th><th>References</th><th>Notes</th><th>Photometry Points</th><th>Positions</th><th>Redshift Points</th><th>Diameter Points</th><th>Associations</th></tr></thead>\n",
       "<thead><tr><th></th><th></th><th>degrees</th><th>degrees</th><th></th><th>km / s</th><th></th><th></th><th></th><th>arcmin</th><th></th><th></th><th></th><th></th><th></th><th></th><th></th></tr></thead>\n",
       "<thead><tr><th>int32</th><th>str30</th><th>float64</th><th>float64</th><th>object</th><th>float64</th><th>float64</th><th>object</th><th>object</th><th>float64</th><th>int32</th><th>int32</th><th>int32</th><th>int32</th><th>int32</th><th>int32</th><th>int32</th></tr></thead>\n",
       "<tr><td>1</td><td>MESSIER 087</td><td>187.70593</td><td>12.39112</td><td>G</td><td>1284.0</td><td>0.004283</td><td>UUN</td><td>9.59</td><td>--</td><td>3364</td><td>55</td><td>506</td><td>122</td><td>77</td><td>14</td><td>1</td></tr>\n",
       "</table></div>"
      ],
      "text/plain": [
       "<Table length=1>\n",
       " No.  Object Name     RA     ... Redshift Points Diameter Points Associations\n",
       "                   degrees   ...                                             \n",
       "int32    str30     float64   ...      int32           int32         int32    \n",
       "----- ----------- ---------- ... --------------- --------------- ------------\n",
       "    1 MESSIER 087  187.70593 ...              77              14            1"
      ]
     },
     "execution_count": 17,
     "metadata": {},
     "output_type": "execute_result"
    }
   ],
   "source": [
    "#-------------------- Query by object Name --------------------#\n",
    "m87 = Ned.query_object(\"Messier 87\")\n",
    "m87"
   ]
  },
  {
   "cell_type": "code",
   "execution_count": 20,
   "metadata": {},
   "outputs": [
    {
     "data": {
      "text/html": [
       "<div><i>Table length=443</i>\n",
       "<table id=\"table14956209856\" class=\"table-striped table-bordered table-condensed\">\n",
       "<thead><tr><th>No.</th><th>Object Name</th><th>RA</th><th>DEC</th><th>Type</th><th>Velocity</th><th>Redshift</th><th>Redshift Flag</th><th>Magnitude and Filter</th><th>Separation</th><th>References</th><th>Notes</th><th>Photometry Points</th><th>Positions</th><th>Redshift Points</th><th>Diameter Points</th><th>Associations</th></tr></thead>\n",
       "<thead><tr><th></th><th></th><th>degrees</th><th>degrees</th><th></th><th>km / s</th><th></th><th></th><th></th><th>arcmin</th><th></th><th></th><th></th><th></th><th></th><th></th><th></th></tr></thead>\n",
       "<thead><tr><th>int32</th><th>str30</th><th>float64</th><th>float64</th><th>object</th><th>float64</th><th>float64</th><th>object</th><th>object</th><th>float64</th><th>int32</th><th>int32</th><th>int32</th><th>int32</th><th>int32</th><th>int32</th><th>int32</th></tr></thead>\n",
       "<tr><td>1</td><td>WISEA J004938.88+122302.0</td><td>12.41202</td><td>12.38391</td><td>IrS</td><td>--</td><td>--</td><td></td><td></td><td>5.981</td><td>0</td><td>0</td><td>12</td><td>1</td><td>0</td><td>0</td><td>0</td></tr>\n",
       "<tr><td>2</td><td>WISEA J004939.62+122341.6</td><td>12.41512</td><td>12.39489</td><td>IrS</td><td>--</td><td>--</td><td></td><td></td><td>5.788</td><td>0</td><td>0</td><td>12</td><td>1</td><td>0</td><td>0</td><td>0</td></tr>\n",
       "<tr><td>3</td><td>WISEA J004940.16+122231.1</td><td>12.41736</td><td>12.37532</td><td>IrS</td><td>--</td><td>--</td><td></td><td></td><td>5.731</td><td>0</td><td>0</td><td>12</td><td>1</td><td>0</td><td>0</td><td>0</td></tr>\n",
       "<tr><td>4</td><td>WISEA J004940.25+122336.5</td><td>12.41774</td><td>12.3935</td><td>IrS</td><td>--</td><td>--</td><td></td><td></td><td>5.632</td><td>0</td><td>0</td><td>12</td><td>1</td><td>0</td><td>0</td><td>0</td></tr>\n",
       "<tr><td>5</td><td>WISEA J004940.37+122121.2</td><td>12.41822</td><td>12.35591</td><td>IrS</td><td>--</td><td>--</td><td></td><td></td><td>5.987</td><td>0</td><td>0</td><td>12</td><td>1</td><td>0</td><td>0</td><td>0</td></tr>\n",
       "<tr><td>6</td><td>WISEA J004940.92+122332.2</td><td>12.42053</td><td>12.3923</td><td>IrS</td><td>--</td><td>--</td><td></td><td></td><td>5.467</td><td>0</td><td>0</td><td>12</td><td>1</td><td>0</td><td>0</td><td>0</td></tr>\n",
       "<tr><td>7</td><td>WISEA J004941.05+122225.9</td><td>12.42107</td><td>12.37387</td><td>IrS</td><td>--</td><td>--</td><td></td><td></td><td>5.532</td><td>0</td><td>0</td><td>12</td><td>1</td><td>0</td><td>0</td><td>0</td></tr>\n",
       "<tr><td>8</td><td>WISEA J004941.83+122352.8</td><td>12.42437</td><td>12.39791</td><td>IrS</td><td>--</td><td>--</td><td></td><td></td><td>5.257</td><td>0</td><td>0</td><td>18</td><td>2</td><td>0</td><td>0</td><td>0</td></tr>\n",
       "<tr><td>9</td><td>WISEA J004941.86+122210.1</td><td>12.42444</td><td>12.36949</td><td>IrS</td><td>--</td><td>--</td><td></td><td></td><td>5.396</td><td>0</td><td>0</td><td>12</td><td>1</td><td>0</td><td>0</td><td>0</td></tr>\n",
       "<tr><td>...</td><td>...</td><td>...</td><td>...</td><td>...</td><td>...</td><td>...</td><td>...</td><td>...</td><td>...</td><td>...</td><td>...</td><td>...</td><td>...</td><td>...</td><td>...</td><td>...</td></tr>\n",
       "<tr><td>435</td><td>WISEA J005026.18+122119.8</td><td>12.6091</td><td>12.35551</td><td>IrS</td><td>--</td><td>--</td><td></td><td></td><td>5.979</td><td>0</td><td>0</td><td>12</td><td>1</td><td>0</td><td>0</td><td>0</td></tr>\n",
       "<tr><td>436</td><td>WISEA J005026.17+122137.8</td><td>12.60915</td><td>12.36052</td><td>G</td><td>127370.0</td><td>0.42486</td><td>SLS</td><td></td><td>5.881</td><td>1</td><td>0</td><td>13</td><td>2</td><td>1</td><td>0</td><td>0</td></tr>\n",
       "<tr><td>437</td><td>WISEA J005026.34+122323.4</td><td>12.60978</td><td>12.38985</td><td>IrS</td><td>--</td><td>--</td><td></td><td></td><td>5.625</td><td>0</td><td>0</td><td>12</td><td>1</td><td>0</td><td>0</td><td>0</td></tr>\n",
       "<tr><td>438</td><td>WISEA J005026.53+122523.5</td><td>12.61058</td><td>12.4232</td><td>IrS</td><td>--</td><td>--</td><td></td><td></td><td>5.988</td><td>0</td><td>0</td><td>12</td><td>1</td><td>0</td><td>0</td><td>0</td></tr>\n",
       "<tr><td>439</td><td>WISEA J005026.55+122215.1</td><td>12.61066</td><td>12.37086</td><td>IrS</td><td>--</td><td>--</td><td></td><td></td><td>5.804</td><td>0</td><td>0</td><td>12</td><td>1</td><td>0</td><td>0</td><td>0</td></tr>\n",
       "<tr><td>440</td><td>WISEA J005026.65+122201.0</td><td>12.61105</td><td>12.36696</td><td>IrS</td><td>--</td><td>--</td><td></td><td></td><td>5.88</td><td>0</td><td>0</td><td>12</td><td>1</td><td>0</td><td>0</td><td>0</td></tr>\n",
       "<tr><td>441</td><td>WISEA J005027.01+122348.6</td><td>12.61258</td><td>12.39686</td><td>IrS</td><td>--</td><td>--</td><td></td><td></td><td>5.798</td><td>0</td><td>0</td><td>12</td><td>1</td><td>0</td><td>0</td><td>0</td></tr>\n",
       "<tr><td>442</td><td>GALEXMSC J005027.40+122218.5</td><td>12.61421</td><td>12.37182</td><td>UvS</td><td>--</td><td>--</td><td></td><td></td><td>5.997</td><td>0</td><td>0</td><td>4</td><td>1</td><td>0</td><td>0</td><td>0</td></tr>\n",
       "<tr><td>443</td><td>WISEA J005027.82+122332.7</td><td>12.61604</td><td>12.39236</td><td>G</td><td>161807.0</td><td>0.53973</td><td>SLS</td><td></td><td>5.991</td><td>1</td><td>0</td><td>13</td><td>2</td><td>1</td><td>0</td><td>0</td></tr>\n",
       "</table></div>"
      ],
      "text/plain": [
       "<Table length=443>\n",
       " No.          Object Name              RA     ... Diameter Points Associations\n",
       "                                    degrees   ...                             \n",
       "int32            str30              float64   ...      int32         int32    \n",
       "----- ---------------------------- ---------- ... --------------- ------------\n",
       "    1    WISEA J004938.88+122302.0   12.41202 ...               0            0\n",
       "    2    WISEA J004939.62+122341.6   12.41512 ...               0            0\n",
       "    3    WISEA J004940.16+122231.1   12.41736 ...               0            0\n",
       "    4    WISEA J004940.25+122336.5   12.41774 ...               0            0\n",
       "    5    WISEA J004940.37+122121.2   12.41822 ...               0            0\n",
       "    6    WISEA J004940.92+122332.2   12.42053 ...               0            0\n",
       "    7    WISEA J004941.05+122225.9   12.42107 ...               0            0\n",
       "    8    WISEA J004941.83+122352.8   12.42437 ...               0            0\n",
       "    9    WISEA J004941.86+122210.1   12.42444 ...               0            0\n",
       "  ...                          ...        ... ...             ...          ...\n",
       "  435    WISEA J005026.18+122119.8    12.6091 ...               0            0\n",
       "  436    WISEA J005026.17+122137.8   12.60915 ...               0            0\n",
       "  437    WISEA J005026.34+122323.4   12.60978 ...               0            0\n",
       "  438    WISEA J005026.53+122523.5   12.61058 ...               0            0\n",
       "  439    WISEA J005026.55+122215.1   12.61066 ...               0            0\n",
       "  440    WISEA J005026.65+122201.0   12.61105 ...               0            0\n",
       "  441    WISEA J005027.01+122348.6   12.61258 ...               0            0\n",
       "  442 GALEXMSC J005027.40+122218.5   12.61421 ...               0            0\n",
       "  443    WISEA J005027.82+122332.7   12.61604 ...               0            0"
      ]
     },
     "execution_count": 20,
     "metadata": {},
     "output_type": "execute_result"
    }
   ],
   "source": [
    "#-------------------- Query by coordinates --------------------#\n",
    "coordinates = coords.SkyCoord(ra=12.5138*u.deg, dec=12.3911*u.deg, frame='icrs')\n",
    "\n",
    "#-------------------- Query NED for a region around the given coordinates --------------------#\n",
    "result_coord = Ned.query_region(coordinates, radius=0.1 * u.deg)  # 0.1 degree radius\n",
    "result_coord"
   ]
  },
  {
   "cell_type": "code",
   "execution_count": null,
   "metadata": {},
   "outputs": [],
   "source": []
  }
 ],
 "metadata": {
  "kernelspec": {
   "display_name": "base",
   "language": "python",
   "name": "python3"
  },
  "language_info": {
   "codemirror_mode": {
    "name": "ipython",
    "version": 3
   },
   "file_extension": ".py",
   "mimetype": "text/x-python",
   "name": "python",
   "nbconvert_exporter": "python",
   "pygments_lexer": "ipython3",
   "version": "3.12.2"
  }
 },
 "nbformat": 4,
 "nbformat_minor": 2
}
